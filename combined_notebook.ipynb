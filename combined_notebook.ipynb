{
 "cells": [
  {
   "cell_type": "markdown",
   "id": "049318e3",
   "metadata": {},
   "source": [
    "# Exercise 1. - Getting and Knowing your Data"
   ]
  },
  {
   "cell_type": "markdown",
   "id": "e13ad66a",
   "metadata": {},
   "source": [
    "This time we are going to pull data directly from the internet.\n",
    "Special thanks to: https://github.com/justmarkham for sharing the dataset and materials.\n",
    "\n",
    "Check out [Occupation Exercises Video Tutorial](https://www.youtube.com/watch?v=W8AB5s-L3Rw&list=PLgJhDSE2ZLxaY_DigHeiIDC1cD09rXgJv&index=4) to watch a data scientist go through the exercises\n",
    "\n",
    "### Step 1. Import the necessary libraries!"
   ]
  },
  {
   "cell_type": "code",
   "execution_count": null,
   "id": "6e2dcf1a",
   "metadata": {
    "collapsed": false
   },
   "outputs": [],
   "source": [
    "import pandas as pd\n",
    "import seaborn as sns\n",
    "from dfply import *"
   ]
  },
  {
   "cell_type": "markdown",
   "id": "6c05e6ce",
   "metadata": {},
   "source": [
    "### Step 2. Import the dataset from this [address](https://raw.githubusercontent.com/justmarkham/DAT8/master/data/u.user). "
   ]
  },
  {
   "cell_type": "markdown",
   "id": "b4b99193",
   "metadata": {},
   "source": [
    "### Step 3. Assign it to a variable called users and use the 'user_id' as index"
   ]
  },
  {
   "cell_type": "code",
   "execution_count": null,
   "id": "186e8f3a",
   "metadata": {
    "collapsed": false
   },
   "outputs": [],
   "source": [
    "url = 'https://raw.githubusercontent.com/justmarkham/DAT8/master/data/u.user'  \n",
    "users= pd.read_csv(url, sep=\"|\")\n",
    "users.set_index('user_id', inplace=True)"
   ]
  },
  {
   "cell_type": "markdown",
   "id": "d304e535",
   "metadata": {},
   "source": [
    "### Step 4. See the first 25 entries"
   ]
  },
  {
   "cell_type": "code",
   "execution_count": null,
   "id": "7d89b3b0",
   "metadata": {
    "collapsed": false,
    "scrolled": true
   },
   "outputs": [],
   "source": [
    "users >> head(25)"
   ]
  },
  {
   "cell_type": "markdown",
   "id": "193cead3",
   "metadata": {},
   "source": [
    "### Step 5. See the last 10 entries"
   ]
  },
  {
   "cell_type": "code",
   "execution_count": null,
   "id": "955d383b",
   "metadata": {
    "collapsed": false,
    "scrolled": true
   },
   "outputs": [],
   "source": [
    "users >> tail(10)"
   ]
  },
  {
   "cell_type": "markdown",
   "id": "df0ee409",
   "metadata": {},
   "source": [
    "### Step 6. What is the number of observations in the dataset?"
   ]
  },
  {
   "cell_type": "code",
   "execution_count": null,
   "id": "d9321b60",
   "metadata": {
    "collapsed": false
   },
   "outputs": [],
   "source": [
    "users.info()"
   ]
  },
  {
   "cell_type": "markdown",
   "id": "5c5a75a4",
   "metadata": {},
   "source": [
    "### Step 7. What is the number of columns in the dataset?"
   ]
  },
  {
   "cell_type": "code",
   "execution_count": null,
   "id": "f592d575",
   "metadata": {
    "collapsed": false
   },
   "outputs": [],
   "source": [
    "print(users.shape[1])"
   ]
  },
  {
   "cell_type": "markdown",
   "id": "de55c6d8",
   "metadata": {},
   "source": [
    "### Step 8. Print the name of all the columns."
   ]
  },
  {
   "cell_type": "code",
   "execution_count": null,
   "id": "09fbc8bf",
   "metadata": {
    "collapsed": false
   },
   "outputs": [],
   "source": [
    "users.columns"
   ]
  },
  {
   "cell_type": "markdown",
   "id": "d91a0861",
   "metadata": {},
   "source": [
    "### Step 9. How is the dataset indexed?"
   ]
  },
  {
   "cell_type": "code",
   "execution_count": null,
   "id": "e31d6447",
   "metadata": {
    "collapsed": false
   },
   "outputs": [],
   "source": [
    "users.index"
   ]
  },
  {
   "cell_type": "markdown",
   "id": "c1086f3a",
   "metadata": {},
   "source": [
    "### Step 10. What is the data type of each column?"
   ]
  },
  {
   "cell_type": "code",
   "execution_count": null,
   "id": "1dd7d340",
   "metadata": {
    "collapsed": false
   },
   "outputs": [],
   "source": [
    "users.info()"
   ]
  },
  {
   "cell_type": "markdown",
   "id": "e335fc58",
   "metadata": {},
   "source": [
    "### Step 11. Print only the occupation column"
   ]
  },
  {
   "cell_type": "code",
   "execution_count": null,
   "id": "b59bd14b",
   "metadata": {
    "collapsed": false
   },
   "outputs": [],
   "source": [
    " users >> select(\"occupation\") >> head(10)\n"
   ]
  },
  {
   "cell_type": "code",
   "execution_count": null,
   "id": "a20bfb8b",
   "metadata": {},
   "outputs": [],
   "source": [
    "users.occupation.head(10)"
   ]
  },
  {
   "cell_type": "markdown",
   "id": "71c30fc8",
   "metadata": {},
   "source": [
    "### Step 12. How many different occupations are in this dataset?"
   ]
  },
  {
   "cell_type": "code",
   "execution_count": null,
   "id": "2cb03247",
   "metadata": {
    "collapsed": false
   },
   "outputs": [],
   "source": [
    "\n",
    "x= users.occupation.drop_duplicates()\n",
    "print(x.count())"
   ]
  },
  {
   "cell_type": "code",
   "execution_count": null,
   "id": "b6bc1d6d",
   "metadata": {},
   "outputs": [],
   "source": [
    "users.occupation.nunique()"
   ]
  },
  {
   "cell_type": "markdown",
   "id": "d2f4a4b8",
   "metadata": {},
   "source": [
    "### Step 13. What is the most frequent occupation?"
   ]
  },
  {
   "cell_type": "code",
   "execution_count": null,
   "id": "60501e79",
   "metadata": {
    "collapsed": false
   },
   "outputs": [],
   "source": [
    "users.occupation.value_counts()"
   ]
  },
  {
   "cell_type": "markdown",
   "id": "3d38f16a",
   "metadata": {},
   "source": [
    "### Step 14. Summarize the DataFrame."
   ]
  },
  {
   "cell_type": "code",
   "execution_count": null,
   "id": "524e0faa",
   "metadata": {
    "collapsed": false
   },
   "outputs": [],
   "source": [
    "users.describe(include='all')"
   ]
  },
  {
   "cell_type": "markdown",
   "id": "f3fd83ce",
   "metadata": {},
   "source": [
    "### Step 15. Summarize all the columns"
   ]
  },
  {
   "cell_type": "code",
   "execution_count": null,
   "id": "e5df1c18",
   "metadata": {
    "collapsed": false
   },
   "outputs": [],
   "source": [
    "users.describe(include='all')"
   ]
  },
  {
   "cell_type": "markdown",
   "id": "0dbe55f2",
   "metadata": {},
   "source": [
    "### Step 16. Summarize only the occupation column"
   ]
  },
  {
   "cell_type": "code",
   "execution_count": null,
   "id": "a8325964",
   "metadata": {
    "collapsed": false
   },
   "outputs": [],
   "source": [
    "users.occupation.describe()"
   ]
  },
  {
   "cell_type": "markdown",
   "id": "9d206015",
   "metadata": {},
   "source": [
    "### Step 17. What is the mean age of users?"
   ]
  },
  {
   "cell_type": "code",
   "execution_count": null,
   "id": "0c1023bc",
   "metadata": {
    "collapsed": false
   },
   "outputs": [],
   "source": [
    "users.age.mean()"
   ]
  },
  {
   "cell_type": "markdown",
   "id": "2df57800",
   "metadata": {},
   "source": [
    "### Step 18. What is the age with least occurrence?"
   ]
  },
  {
   "cell_type": "code",
   "execution_count": null,
   "id": "4767e0c9",
   "metadata": {
    "collapsed": false
   },
   "outputs": [],
   "source": [
    "users.age.value_counts().tail()"
   ]
  },
  {
   "cell_type": "markdown",
   "id": "b08e8d2a",
   "metadata": {},
   "source": [
    "---\n",
    "End of Exercise1.ipynb\n",
    "---"
   ]
  },
  {
   "cell_type": "markdown",
   "id": "424063d4",
   "metadata": {},
   "source": [
    "# Exercise 2. - Filtering and Sorting Data\n",
    "\n",
    "Check out [Euro 12 Exercises Video Tutorial](https://youtu.be/iqk5d48Qisg) to watch a data scientist go through the exercises"
   ]
  },
  {
   "cell_type": "markdown",
   "id": "59ffee20",
   "metadata": {},
   "source": [
    "This time we are going to pull data directly from the internet.\n",
    "\n",
    "### Step 1. Import the necessary libraries"
   ]
  },
  {
   "cell_type": "code",
   "execution_count": null,
   "id": "f2ad7bfb",
   "metadata": {
    "collapsed": false
   },
   "outputs": [],
   "source": [
    "import pandas as pd\n",
    "import seaborn as sns\n",
    "from dfply import *\n"
   ]
  },
  {
   "cell_type": "markdown",
   "id": "658dc2cd",
   "metadata": {},
   "source": [
    "### Step 2. Import the dataset from this [address](https://raw.githubusercontent.com/kflisikowsky/pandas_exercises/refs/heads/main/Euro_2012_stats_TEAM.csv). "
   ]
  },
  {
   "cell_type": "markdown",
   "id": "da8c05af",
   "metadata": {},
   "source": [
    "### Step 3. Assign it to a variable called euro12."
   ]
  },
  {
   "cell_type": "code",
   "execution_count": null,
   "id": "51829442",
   "metadata": {
    "collapsed": false
   },
   "outputs": [],
   "source": [
    "url ='https://raw.githubusercontent.com/kflisikowsky/pandas_exercises/refs/heads/main/Euro_2012_stats_TEAM.csv'\n",
    "df=pd.read_csv(url)\n",
    "euro12 = df\n",
    "print(euro12.head())"
   ]
  },
  {
   "cell_type": "markdown",
   "id": "3c477d38",
   "metadata": {},
   "source": [
    "### Step 4. Select only the Goal column."
   ]
  },
  {
   "cell_type": "code",
   "execution_count": null,
   "id": "cfc65b7d",
   "metadata": {
    "collapsed": false
   },
   "outputs": [],
   "source": [
    "euro12 >> select(X.Goals)"
   ]
  },
  {
   "cell_type": "markdown",
   "id": "3e719759",
   "metadata": {},
   "source": [
    "### Step 5. How many team participated in the Euro2012?"
   ]
  },
  {
   "cell_type": "code",
   "execution_count": null,
   "id": "cbbaf3e6",
   "metadata": {
    "collapsed": false
   },
   "outputs": [],
   "source": [
    "print(euro12.Team.count())"
   ]
  },
  {
   "cell_type": "markdown",
   "id": "68044afc",
   "metadata": {},
   "source": [
    "### Step 6. What is the number of columns in the dataset?"
   ]
  },
  {
   "cell_type": "code",
   "execution_count": null,
   "id": "3436778d",
   "metadata": {
    "collapsed": false
   },
   "outputs": [],
   "source": [
    "euro12.shape[1]"
   ]
  },
  {
   "cell_type": "markdown",
   "id": "1878c0ac",
   "metadata": {},
   "source": [
    "### Step 7. View only the columns Team, Yellow Cards and Red Cards and assign them to a dataframe called discipline"
   ]
  },
  {
   "cell_type": "code",
   "execution_count": null,
   "id": "94516308",
   "metadata": {
    "collapsed": false
   },
   "outputs": [],
   "source": [
    "discipline = euro12[['Team', 'Yellow Cards', 'Red Cards']]\n",
    "discipline"
   ]
  },
  {
   "cell_type": "markdown",
   "id": "fa0ae898",
   "metadata": {},
   "source": [
    "### Step 8. Sort the teams by Red Cards, then to Yellow Cards"
   ]
  },
  {
   "cell_type": "code",
   "execution_count": null,
   "id": "0b38b662",
   "metadata": {
    "collapsed": false,
    "scrolled": true
   },
   "outputs": [],
   "source": [
    "discipline.sort_values(['Red Cards', 'Yellow Cards'] ,ascending = False)"
   ]
  },
  {
   "cell_type": "markdown",
   "id": "bce5cc04",
   "metadata": {},
   "source": [
    "### Step 9. Calculate the mean Yellow Cards given per Team"
   ]
  },
  {
   "cell_type": "code",
   "execution_count": null,
   "id": "40a0acf5",
   "metadata": {
    "collapsed": false
   },
   "outputs": [],
   "source": [
    "mean = euro12['Yellow Cards'].mean()\n",
    "print(mean)"
   ]
  },
  {
   "cell_type": "markdown",
   "id": "ae6813e2",
   "metadata": {},
   "source": [
    "### Step 10. Filter teams that scored more than 6 goals"
   ]
  },
  {
   "cell_type": "code",
   "execution_count": null,
   "id": "331ce555",
   "metadata": {
    "collapsed": false
   },
   "outputs": [],
   "source": [
    "more_than_6= euro12.query('Goals > 6')\n",
    "more_than_6"
   ]
  },
  {
   "cell_type": "markdown",
   "id": "6fd3e136",
   "metadata": {},
   "source": [
    "### Step 11. Select the teams that start with G"
   ]
  },
  {
   "cell_type": "code",
   "execution_count": null,
   "id": "17940afb",
   "metadata": {
    "collapsed": false
   },
   "outputs": [],
   "source": [
    "starts_with_G= euro12.query('Team.str.startswith(\"G\")')\n",
    "starts_with_G"
   ]
  },
  {
   "cell_type": "markdown",
   "id": "b2799851",
   "metadata": {},
   "source": [
    "### Step 12. Select the first 7 columns"
   ]
  },
  {
   "cell_type": "code",
   "execution_count": null,
   "id": "e9248cfd",
   "metadata": {
    "collapsed": false
   },
   "outputs": [],
   "source": [
    "euro12.iloc[0:7]"
   ]
  },
  {
   "cell_type": "markdown",
   "id": "8fa5d0bf",
   "metadata": {},
   "source": [
    "### Step 13. Select all columns except the last 3."
   ]
  },
  {
   "cell_type": "code",
   "execution_count": null,
   "id": "e7b1d33a",
   "metadata": {
    "collapsed": false
   },
   "outputs": [],
   "source": [
    "euro12.drop(euro12.index[-3:])"
   ]
  },
  {
   "cell_type": "markdown",
   "id": "58edcf00",
   "metadata": {},
   "source": [
    "### Step 14. Present only the Shooting Accuracy from England, Italy and Russia"
   ]
  },
  {
   "cell_type": "code",
   "execution_count": null,
   "id": "ae3de098",
   "metadata": {
    "collapsed": false
   },
   "outputs": [],
   "source": [
    "euro12.set_index('Team',inplace=True)\n",
    "euro12.loc[['England', 'Italy', 'Russia'], ['Shooting Accuracy']]"
   ]
  },
  {
   "cell_type": "markdown",
   "id": "44346d58",
   "metadata": {},
   "source": [
    "---\n",
    "End of Exercise2.ipynb\n",
    "---"
   ]
  },
  {
   "cell_type": "markdown",
   "id": "6361ce2c",
   "metadata": {},
   "source": [
    "# Exercise 3. - GroupBy"
   ]
  },
  {
   "cell_type": "markdown",
   "id": "61b79c5a",
   "metadata": {},
   "source": [
    "### Introduction:\n",
    "\n",
    "GroupBy can be summarized as Split-Apply-Combine.\n",
    "\n",
    "Special thanks to: https://github.com/justmarkham for sharing the dataset and materials.\n",
    "\n",
    "Check out this [Diagram](http://i.imgur.com/yjNkiwL.png)  \n",
    "\n",
    "Check out [Alcohol Consumption Exercises Video Tutorial](https://youtu.be/az67CMdmS6s) to watch a data scientist go through the exercises\n",
    "\n",
    "\n",
    "### Step 1. Import the necessary libraries"
   ]
  },
  {
   "cell_type": "code",
   "execution_count": null,
   "id": "bdcd4f20",
   "metadata": {},
   "outputs": [],
   "source": [
    "import pandas as pd\n",
    "import seaborn as sns\n",
    "from dfply import *"
   ]
  },
  {
   "cell_type": "markdown",
   "id": "6c7e4e14",
   "metadata": {},
   "source": [
    "### Step 2. Import the dataset from this [address](https://raw.githubusercontent.com/justmarkham/DAT8/master/data/drinks.csv). "
   ]
  },
  {
   "cell_type": "markdown",
   "id": "2244171b",
   "metadata": {},
   "source": [
    "### Step 3. Assign it to a variable called drinks."
   ]
  },
  {
   "cell_type": "code",
   "execution_count": null,
   "id": "4e89cc12",
   "metadata": {},
   "outputs": [],
   "source": [
    "url=('https://raw.githubusercontent.com/justmarkham/DAT8/master/data/drinks.csv')\n",
    "drinks = pd.read_csv(url)\n",
    "drinks >>head(15)\n"
   ]
  },
  {
   "cell_type": "markdown",
   "id": "a06e7039",
   "metadata": {},
   "source": [
    "### Step 4. Which continent drinks more beer on average?"
   ]
  },
  {
   "cell_type": "code",
   "execution_count": null,
   "id": "71b8fffa",
   "metadata": {},
   "outputs": [],
   "source": [
    "drinks >>group_by('continent') >>summarize(total_beer_servings=X.beer_servings.mean()) >>arrange(desc(X.total_beer_servings)) \n"
   ]
  },
  {
   "cell_type": "markdown",
   "id": "c3bb8a07",
   "metadata": {},
   "source": [
    "### Step 5. For each continent print the statistics for wine consumption."
   ]
  },
  {
   "cell_type": "code",
   "execution_count": null,
   "id": "766b8639",
   "metadata": {},
   "outputs": [],
   "source": [
    "\n",
    "\n",
    "d = drinks.groupby('continent').agg({\n",
    "'wine_servings': 'describe'\n",
    "})\n",
    "d"
   ]
  },
  {
   "cell_type": "markdown",
   "id": "ba6a76d6",
   "metadata": {},
   "source": [
    "### Step 6. Print the mean alcohol consumption per continent for every column"
   ]
  },
  {
   "cell_type": "code",
   "execution_count": null,
   "id": "eda3a190",
   "metadata": {},
   "outputs": [],
   "source": [
    "drinks.groupby('continent').mean()"
   ]
  },
  {
   "cell_type": "markdown",
   "id": "a7ae84eb",
   "metadata": {},
   "source": [
    "### Step 7. Print the median alcohol consumption per continent for every column"
   ]
  },
  {
   "cell_type": "code",
   "execution_count": null,
   "id": "83778b3b",
   "metadata": {},
   "outputs": [],
   "source": [
    "drinks.groupby('continent').median()"
   ]
  },
  {
   "cell_type": "markdown",
   "id": "556fb181",
   "metadata": {},
   "source": [
    "### Step 8. Print the mean, min and max values for spirit consumption.\n",
    "#### This time output a DataFrame"
   ]
  },
  {
   "cell_type": "code",
   "execution_count": null,
   "id": "e73e3a54",
   "metadata": {},
   "outputs": [],
   "source": [
    "drinks.groupby('continent').spirit_servings.agg(['mean', 'min', 'max'])"
   ]
  },
  {
   "cell_type": "markdown",
   "id": "cd01ea12",
   "metadata": {},
   "source": [
    "---\n",
    "End of Exercise3.ipynb\n",
    "---"
   ]
  }
 ],
 "metadata": {},
 "nbformat": 4,
 "nbformat_minor": 5
}
